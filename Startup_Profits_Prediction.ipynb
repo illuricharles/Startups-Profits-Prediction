{
 "cells": [
  {
   "cell_type": "markdown",
   "metadata": {
    "id": "EBffwFYyOSxp"
   },
   "source": [
    "# Import Libraries"
   ]
  },
  {
   "cell_type": "code",
   "execution_count": 3,
   "metadata": {
    "id": "h4W24RQwNUCc"
   },
   "outputs": [],
   "source": [
    "import math\n",
    "import numpy as np\n",
    "import pandas as pd\n",
    "import matplotlib.pyplot as plt \n",
    "import seaborn as sns"
   ]
  },
  {
   "cell_type": "markdown",
   "metadata": {
    "id": "qNEWiFYwd5xs"
   },
   "source": [
    "# Collecting Data"
   ]
  },
  {
   "cell_type": "code",
   "execution_count": 4,
   "metadata": {
    "id": "5Yw_1Q_0Nf2I"
   },
   "outputs": [],
   "source": [
    "df = pd.read_csv('sample_data/50_Startups.csv')"
   ]
  },
  {
   "cell_type": "markdown",
   "metadata": {
    "id": "KtjIANVKOQNv"
   },
   "source": [
    "##  Understanding Data"
   ]
  },
  {
   "cell_type": "code",
   "execution_count": 5,
   "metadata": {
    "colab": {
     "base_uri": "https://localhost:8080/"
    },
    "id": "RgDBmy9FOCJQ",
    "outputId": "6e7ba311-89a1-43b2-e24f-bac402069c63"
   },
   "outputs": [
    {
     "data": {
      "text/plain": [
       "Index(['R&D Spend', 'Administration', 'Marketing Spend', 'Profit'], dtype='object')"
      ]
     },
     "execution_count": 5,
     "metadata": {},
     "output_type": "execute_result"
    }
   ],
   "source": [
    "# Checking the data\n",
    "df.columns"
   ]
  },
  {
   "cell_type": "code",
   "execution_count": 6,
   "metadata": {
    "colab": {
     "base_uri": "https://localhost:8080/",
     "height": 206
    },
    "id": "2TiTLnf9OIO2",
    "outputId": "58c11f4c-4695-44b1-9016-e41113aaebbb"
   },
   "outputs": [
    {
     "data": {
      "text/html": [
       "<div>\n",
       "<style scoped>\n",
       "    .dataframe tbody tr th:only-of-type {\n",
       "        vertical-align: middle;\n",
       "    }\n",
       "\n",
       "    .dataframe tbody tr th {\n",
       "        vertical-align: top;\n",
       "    }\n",
       "\n",
       "    .dataframe thead th {\n",
       "        text-align: right;\n",
       "    }\n",
       "</style>\n",
       "<table border=\"1\" class=\"dataframe\">\n",
       "  <thead>\n",
       "    <tr style=\"text-align: right;\">\n",
       "      <th></th>\n",
       "      <th>R&amp;D Spend</th>\n",
       "      <th>Administration</th>\n",
       "      <th>Marketing Spend</th>\n",
       "      <th>Profit</th>\n",
       "    </tr>\n",
       "  </thead>\n",
       "  <tbody>\n",
       "    <tr>\n",
       "      <th>0</th>\n",
       "      <td>165349.20</td>\n",
       "      <td>136897.80</td>\n",
       "      <td>471784.10</td>\n",
       "      <td>192261.83</td>\n",
       "    </tr>\n",
       "    <tr>\n",
       "      <th>1</th>\n",
       "      <td>162597.70</td>\n",
       "      <td>151377.59</td>\n",
       "      <td>443898.53</td>\n",
       "      <td>191792.06</td>\n",
       "    </tr>\n",
       "    <tr>\n",
       "      <th>2</th>\n",
       "      <td>153441.51</td>\n",
       "      <td>101145.55</td>\n",
       "      <td>407934.54</td>\n",
       "      <td>191050.39</td>\n",
       "    </tr>\n",
       "    <tr>\n",
       "      <th>3</th>\n",
       "      <td>144372.41</td>\n",
       "      <td>118671.85</td>\n",
       "      <td>383199.62</td>\n",
       "      <td>182901.99</td>\n",
       "    </tr>\n",
       "    <tr>\n",
       "      <th>4</th>\n",
       "      <td>142107.34</td>\n",
       "      <td>91391.77</td>\n",
       "      <td>366168.42</td>\n",
       "      <td>166187.94</td>\n",
       "    </tr>\n",
       "  </tbody>\n",
       "</table>\n",
       "</div>"
      ],
      "text/plain": [
       "   R&D Spend  Administration  Marketing Spend     Profit\n",
       "0  165349.20       136897.80        471784.10  192261.83\n",
       "1  162597.70       151377.59        443898.53  191792.06\n",
       "2  153441.51       101145.55        407934.54  191050.39\n",
       "3  144372.41       118671.85        383199.62  182901.99\n",
       "4  142107.34        91391.77        366168.42  166187.94"
      ]
     },
     "execution_count": 6,
     "metadata": {},
     "output_type": "execute_result"
    }
   ],
   "source": [
    "df.head()"
   ]
  },
  {
   "cell_type": "markdown",
   "metadata": {
    "id": "QZeIXlwePmXh"
   },
   "source": [
    "There are total 4 columns columns\n",
    "- R&D Spend is Research and Development Spend\n",
    "- Administration is spend on administration\n",
    "- Marketing Spend is the amount spend on marketing their product"
   ]
  },
  {
   "cell_type": "markdown",
   "metadata": {
    "id": "5E9RzNkMeItX"
   },
   "source": [
    "# Data Cleaning"
   ]
  },
  {
   "cell_type": "markdown",
   "metadata": {
    "id": "t0x7d6_dgO1I"
   },
   "source": [
    "## Handling Missing Values"
   ]
  },
  {
   "cell_type": "code",
   "execution_count": 7,
   "metadata": {
    "colab": {
     "base_uri": "https://localhost:8080/"
    },
    "id": "Dqa3N2j3gJl0",
    "outputId": "bbfe4d63-7ecd-4dda-d24c-48f5c8df4035"
   },
   "outputs": [
    {
     "data": {
      "text/plain": [
       "R&D Spend          0\n",
       "Administration     0\n",
       "Marketing Spend    0\n",
       "Profit             0\n",
       "dtype: int64"
      ]
     },
     "execution_count": 7,
     "metadata": {},
     "output_type": "execute_result"
    }
   ],
   "source": [
    "df.isna().sum()"
   ]
  },
  {
   "cell_type": "markdown",
   "metadata": {
    "id": "s6voumDzgW2A"
   },
   "source": [
    "There are no Missing Values"
   ]
  },
  {
   "cell_type": "markdown",
   "metadata": {
    "id": "SwuRuGLIgdp3"
   },
   "source": [
    "## Handling Duplicates"
   ]
  },
  {
   "cell_type": "code",
   "execution_count": 8,
   "metadata": {
    "colab": {
     "base_uri": "https://localhost:8080/"
    },
    "id": "ATvK6UGegjzr",
    "outputId": "d62a568f-c0da-44cb-c0af-1c6ce75a5346"
   },
   "outputs": [
    {
     "data": {
      "text/plain": [
       "0"
      ]
     },
     "execution_count": 8,
     "metadata": {},
     "output_type": "execute_result"
    }
   ],
   "source": [
    "df.duplicated().sum()"
   ]
  },
  {
   "cell_type": "markdown",
   "metadata": {
    "id": "7YrYFjMOgm5N"
   },
   "source": [
    "There are no duplicate values"
   ]
  },
  {
   "cell_type": "code",
   "execution_count": 9,
   "metadata": {
    "colab": {
     "base_uri": "https://localhost:8080/"
    },
    "id": "yLGTWglZOw5F",
    "outputId": "b2ece7d2-63d3-4729-de1e-956105024487"
   },
   "outputs": [
    {
     "data": {
      "text/plain": [
       "R&D Spend          float64\n",
       "Administration     float64\n",
       "Marketing Spend    float64\n",
       "Profit             float64\n",
       "dtype: object"
      ]
     },
     "execution_count": 9,
     "metadata": {},
     "output_type": "execute_result"
    }
   ],
   "source": [
    "df.dtypes"
   ]
  },
  {
   "cell_type": "markdown",
   "metadata": {
    "id": "Fh-h4cPCQy0U"
   },
   "source": [
    "Data Types of the features is float "
   ]
  },
  {
   "cell_type": "code",
   "execution_count": 10,
   "metadata": {
    "colab": {
     "base_uri": "https://localhost:8080/"
    },
    "id": "0d_0Xaf-Otpu",
    "outputId": "701c8b67-e49c-4c92-d906-28af79d2ba7d"
   },
   "outputs": [
    {
     "name": "stdout",
     "output_type": "stream",
     "text": [
      "<class 'pandas.core.frame.DataFrame'>\n",
      "RangeIndex: 50 entries, 0 to 49\n",
      "Data columns (total 4 columns):\n",
      " #   Column           Non-Null Count  Dtype  \n",
      "---  ------           --------------  -----  \n",
      " 0   R&D Spend        50 non-null     float64\n",
      " 1   Administration   50 non-null     float64\n",
      " 2   Marketing Spend  50 non-null     float64\n",
      " 3   Profit           50 non-null     float64\n",
      "dtypes: float64(4)\n",
      "memory usage: 1.7 KB\n"
     ]
    }
   ],
   "source": [
    "df.info()"
   ]
  },
  {
   "cell_type": "code",
   "execution_count": 11,
   "metadata": {
    "colab": {
     "base_uri": "https://localhost:8080/",
     "height": 300
    },
    "id": "9wpBt0u-OzeT",
    "outputId": "83b48e57-b371-484b-895f-d8463de13f4b"
   },
   "outputs": [
    {
     "data": {
      "text/html": [
       "<div>\n",
       "<style scoped>\n",
       "    .dataframe tbody tr th:only-of-type {\n",
       "        vertical-align: middle;\n",
       "    }\n",
       "\n",
       "    .dataframe tbody tr th {\n",
       "        vertical-align: top;\n",
       "    }\n",
       "\n",
       "    .dataframe thead th {\n",
       "        text-align: right;\n",
       "    }\n",
       "</style>\n",
       "<table border=\"1\" class=\"dataframe\">\n",
       "  <thead>\n",
       "    <tr style=\"text-align: right;\">\n",
       "      <th></th>\n",
       "      <th>R&amp;D Spend</th>\n",
       "      <th>Administration</th>\n",
       "      <th>Marketing Spend</th>\n",
       "      <th>Profit</th>\n",
       "    </tr>\n",
       "  </thead>\n",
       "  <tbody>\n",
       "    <tr>\n",
       "      <th>count</th>\n",
       "      <td>50.000000</td>\n",
       "      <td>50.000000</td>\n",
       "      <td>50.000000</td>\n",
       "      <td>50.000000</td>\n",
       "    </tr>\n",
       "    <tr>\n",
       "      <th>mean</th>\n",
       "      <td>73721.615600</td>\n",
       "      <td>121344.639600</td>\n",
       "      <td>211025.097800</td>\n",
       "      <td>112012.639200</td>\n",
       "    </tr>\n",
       "    <tr>\n",
       "      <th>std</th>\n",
       "      <td>45902.256482</td>\n",
       "      <td>28017.802755</td>\n",
       "      <td>122290.310726</td>\n",
       "      <td>40306.180338</td>\n",
       "    </tr>\n",
       "    <tr>\n",
       "      <th>min</th>\n",
       "      <td>0.000000</td>\n",
       "      <td>51283.140000</td>\n",
       "      <td>0.000000</td>\n",
       "      <td>14681.400000</td>\n",
       "    </tr>\n",
       "    <tr>\n",
       "      <th>25%</th>\n",
       "      <td>39936.370000</td>\n",
       "      <td>103730.875000</td>\n",
       "      <td>129300.132500</td>\n",
       "      <td>90138.902500</td>\n",
       "    </tr>\n",
       "    <tr>\n",
       "      <th>50%</th>\n",
       "      <td>73051.080000</td>\n",
       "      <td>122699.795000</td>\n",
       "      <td>212716.240000</td>\n",
       "      <td>107978.190000</td>\n",
       "    </tr>\n",
       "    <tr>\n",
       "      <th>75%</th>\n",
       "      <td>101602.800000</td>\n",
       "      <td>144842.180000</td>\n",
       "      <td>299469.085000</td>\n",
       "      <td>139765.977500</td>\n",
       "    </tr>\n",
       "    <tr>\n",
       "      <th>max</th>\n",
       "      <td>165349.200000</td>\n",
       "      <td>182645.560000</td>\n",
       "      <td>471784.100000</td>\n",
       "      <td>192261.830000</td>\n",
       "    </tr>\n",
       "  </tbody>\n",
       "</table>\n",
       "</div>"
      ],
      "text/plain": [
       "           R&D Spend  Administration  Marketing Spend         Profit\n",
       "count      50.000000       50.000000        50.000000      50.000000\n",
       "mean    73721.615600   121344.639600    211025.097800  112012.639200\n",
       "std     45902.256482    28017.802755    122290.310726   40306.180338\n",
       "min         0.000000    51283.140000         0.000000   14681.400000\n",
       "25%     39936.370000   103730.875000    129300.132500   90138.902500\n",
       "50%     73051.080000   122699.795000    212716.240000  107978.190000\n",
       "75%    101602.800000   144842.180000    299469.085000  139765.977500\n",
       "max    165349.200000   182645.560000    471784.100000  192261.830000"
      ]
     },
     "execution_count": 11,
     "metadata": {},
     "output_type": "execute_result"
    }
   ],
   "source": [
    "df.describe()"
   ]
  },
  {
   "cell_type": "markdown",
   "metadata": {
    "id": "bfA-F2mKi6t9"
   },
   "source": [
    "- Companies spend more amount on Marketing "
   ]
  },
  {
   "cell_type": "markdown",
   "metadata": {
    "id": "sPIBRwdnU-79"
   },
   "source": [
    "## Handling Outliners"
   ]
  },
  {
   "cell_type": "code",
   "execution_count": 12,
   "metadata": {
    "colab": {
     "base_uri": "https://localhost:8080/",
     "height": 445
    },
    "id": "GcGtMpUJU9KB",
    "outputId": "381d7830-edda-44e1-e67c-50099f1f7ea3"
   },
   "outputs": [
    {
     "data": {
      "text/plain": [
       "<matplotlib.axes._subplots.AxesSubplot at 0x23826518988>"
      ]
     },
     "execution_count": 12,
     "metadata": {},
     "output_type": "execute_result"
    },
    {
     "data": {
      "image/png": "[encoded data removed]",
      "text/plain": [
       "<Figure size 576x504 with 1 Axes>"
      ]
     },
     "metadata": {
      "needs_background": "light"
     },
     "output_type": "display_data"
    }
   ],
   "source": [
    "plt.figure(figsize = (8,7))\n",
    "df.boxplot()"
   ]
  },
  {
   "cell_type": "code",
   "execution_count": 13,
   "metadata": {
    "colab": {
     "base_uri": "https://localhost:8080/",
     "height": 81
    },
    "id": "eTLkL3MBhNDh",
    "outputId": "4470cd8e-d39c-4eae-9670-d98b8e586ecc"
   },
   "outputs": [
    {
     "data": {
      "text/html": [
       "<div>\n",
       "<style scoped>\n",
       "    .dataframe tbody tr th:only-of-type {\n",
       "        vertical-align: middle;\n",
       "    }\n",
       "\n",
       "    .dataframe tbody tr th {\n",
       "        vertical-align: top;\n",
       "    }\n",
       "\n",
       "    .dataframe thead th {\n",
       "        text-align: right;\n",
       "    }\n",
       "</style>\n",
       "<table border=\"1\" class=\"dataframe\">\n",
       "  <thead>\n",
       "    <tr style=\"text-align: right;\">\n",
       "      <th></th>\n",
       "      <th>R&amp;D Spend</th>\n",
       "      <th>Administration</th>\n",
       "      <th>Marketing Spend</th>\n",
       "      <th>Profit</th>\n",
       "    </tr>\n",
       "  </thead>\n",
       "  <tbody>\n",
       "    <tr>\n",
       "      <th>49</th>\n",
       "      <td>0.0</td>\n",
       "      <td>116983.8</td>\n",
       "      <td>45173.06</td>\n",
       "      <td>14681.4</td>\n",
       "    </tr>\n",
       "  </tbody>\n",
       "</table>\n",
       "</div>"
      ],
      "text/plain": [
       "    R&D Spend  Administration  Marketing Spend   Profit\n",
       "49        0.0        116983.8         45173.06  14681.4"
      ]
     },
     "execution_count": 13,
     "metadata": {},
     "output_type": "execute_result"
    }
   ],
   "source": [
    "filter = df['Profit'] < 25000\n",
    "df[filter]"
   ]
  },
  {
   "cell_type": "markdown",
   "metadata": {
    "id": "YupfKuNGWTt5"
   },
   "source": [
    "- There is an outliner in the profits column\n",
    "- But the dataset contains only 50 examples so we have to consider.\n",
    "- There is only one outliner so it shows not much difference"
   ]
  },
  {
   "cell_type": "markdown",
   "metadata": {
    "id": "Den_C6e2Toxx"
   },
   "source": [
    "# Exploratory Data Analysis"
   ]
  },
  {
   "cell_type": "markdown",
   "metadata": {
    "id": "wSWsfp3LYESW"
   },
   "source": [
    "## Correlation "
   ]
  },
  {
   "cell_type": "code",
   "execution_count": 14,
   "metadata": {
    "colab": {
     "base_uri": "https://localhost:8080/",
     "height": 175
    },
    "id": "kMN6vo4eW9hn",
    "outputId": "30574786-bef7-4fb5-d4e2-9b47444c0999"
   },
   "outputs": [
    {
     "data": {
      "text/html": [
       "<div>\n",
       "<style scoped>\n",
       "    .dataframe tbody tr th:only-of-type {\n",
       "        vertical-align: middle;\n",
       "    }\n",
       "\n",
       "    .dataframe tbody tr th {\n",
       "        vertical-align: top;\n",
       "    }\n",
       "\n",
       "    .dataframe thead th {\n",
       "        text-align: right;\n",
       "    }\n",
       "</style>\n",
       "<table border=\"1\" class=\"dataframe\">\n",
       "  <thead>\n",
       "    <tr style=\"text-align: right;\">\n",
       "      <th></th>\n",
       "      <th>R&amp;D Spend</th>\n",
       "      <th>Administration</th>\n",
       "      <th>Marketing Spend</th>\n",
       "      <th>Profit</th>\n",
       "    </tr>\n",
       "  </thead>\n",
       "  <tbody>\n",
       "    <tr>\n",
       "      <th>R&amp;D Spend</th>\n",
       "      <td>1.000000</td>\n",
       "      <td>0.241955</td>\n",
       "      <td>0.724248</td>\n",
       "      <td>0.972900</td>\n",
       "    </tr>\n",
       "    <tr>\n",
       "      <th>Administration</th>\n",
       "      <td>0.241955</td>\n",
       "      <td>1.000000</td>\n",
       "      <td>-0.032154</td>\n",
       "      <td>0.200717</td>\n",
       "    </tr>\n",
       "    <tr>\n",
       "      <th>Marketing Spend</th>\n",
       "      <td>0.724248</td>\n",
       "      <td>-0.032154</td>\n",
       "      <td>1.000000</td>\n",
       "      <td>0.747766</td>\n",
       "    </tr>\n",
       "    <tr>\n",
       "      <th>Profit</th>\n",
       "      <td>0.972900</td>\n",
       "      <td>0.200717</td>\n",
       "      <td>0.747766</td>\n",
       "      <td>1.000000</td>\n",
       "    </tr>\n",
       "  </tbody>\n",
       "</table>\n",
       "</div>"
      ],
      "text/plain": [
       "                 R&D Spend  Administration  Marketing Spend    Profit\n",
       "R&D Spend         1.000000        0.241955         0.724248  0.972900\n",
       "Administration    0.241955        1.000000        -0.032154  0.200717\n",
       "Marketing Spend   0.724248       -0.032154         1.000000  0.747766\n",
       "Profit            0.972900        0.200717         0.747766  1.000000"
      ]
     },
     "execution_count": 14,
     "metadata": {},
     "output_type": "execute_result"
    }
   ],
   "source": [
    "relation = df.corr()\n",
    "relation"
   ]
  },
  {
   "cell_type": "markdown",
   "metadata": {
    "id": "6w7eUOxfX2kH"
   },
   "source": [
    "- correlations above 0.4 to be relatively strong\n",
    "- correlations between 0.2 and 0.4 are moderate\n",
    "- Those below 0.2 are considered weak.\n"
   ]
  },
  {
   "cell_type": "markdown",
   "metadata": {
    "id": "ToDq22pDfh7U"
   },
   "source": [
    "## Data Visualization"
   ]
  },
  {
   "cell_type": "markdown",
   "metadata": {
    "id": "3Lp5czXJgAPC"
   },
   "source": [
    "### Correlation matrix"
   ]
  },
  {
   "cell_type": "code",
   "execution_count": 15,
   "metadata": {
    "colab": {
     "base_uri": "https://localhost:8080/",
     "height": 361
    },
    "id": "-iUH57V9cR6b",
    "outputId": "93555454-2bd6-480d-b8e0-9eb1784d8177"
   },
   "outputs": [
    {
     "data": {
      "text/plain": [
       "<matplotlib.axes._subplots.AxesSubplot at 0x23827df7588>"
      ]
     },
     "execution_count": 15,
     "metadata": {},
     "output_type": "execute_result"
    },
    {
     "data": {
      "image/png": "[encoded data removed]",
      "text/plain": [
       "<Figure size 432x288 with 2 Axes>"
      ]
     },
     "metadata": {
      "needs_background": "light"
     },
     "output_type": "display_data"
    }
   ],
   "source": [
    "# plt.figure(figsize=(8,6))\n",
    "sns.heatmap(relation, annot = True)\n"
   ]
  },
  {
   "cell_type": "markdown",
   "metadata": {
    "id": "H-QvkrM6dbwL"
   },
   "source": [
    "### Selected Feature VS Target Feature "
   ]
  },
  {
   "cell_type": "code",
   "execution_count": 16,
   "metadata": {
    "id": "D-oBSzIFO2LG"
   },
   "outputs": [],
   "source": [
    "# graph for different features and target value\n",
    "def featureVsProfit(x, relation):\n",
    "  print(f'{x} vs profit')\n",
    "  plt.scatter(df[x], df['Profit'], edgecolor = 'white', s = 60)\n",
    "  plt.xlabel(x, fontsize = 13)\n",
    "  plt.ylabel('Profits', fontsize = 13)\n",
    "  corr_value = round(relation[x]['Profit'],2)\n",
    "  plt.title(f'correlation coefficient: {corr_value} ', fontsize= 16)\n",
    "  plt.show()"
   ]
  },
  {
   "cell_type": "code",
   "execution_count": 17,
   "metadata": {
    "colab": {
     "base_uri": "https://localhost:8080/",
     "height": 918
    },
    "id": "f6bfJODgXumO",
    "outputId": "121dafe5-8f8b-44f4-d925-bf043baf8802"
   },
   "outputs": [
    {
     "name": "stdout",
     "output_type": "stream",
     "text": [
      "R&D Spend vs profit\n"
     ]
    },
    {
     "data": {
      "image/png": "[encoded data removed]",
      "text/plain": [
       "<Figure size 432x288 with 1 Axes>"
      ]
     },
     "metadata": {
      "needs_background": "light"
     },
     "output_type": "display_data"
    },
    {
     "name": "stdout",
     "output_type": "stream",
     "text": [
      "Administration vs profit\n"
     ]
    },
    {
     "data": {
      "image/png": "[encoded data removed]",
      "text/plain": [
       "<Figure size 432x288 with 1 Axes>"
      ]
     },
     "metadata": {
      "needs_background": "light"
     },
     "output_type": "display_data"
    },
    {
     "name": "stdout",
     "output_type": "stream",
     "text": [
      "Marketing Spend vs profit\n"
     ]
    },
    {
     "data": {
      "image/png": "[encoded data removed]",
      "text/plain": [
       "<Figure size 432x288 with 1 Axes>"
      ]
     },
     "metadata": {
      "needs_background": "light"
     },
     "output_type": "display_data"
    }
   ],
   "source": [
    "filter = df.columns != 'Profit'\n",
    "selected_features = df.columns[filter]\n",
    "for i in selected_features:\n",
    "  featureVsProfit(i, relation)"
   ]
  },
  {
   "cell_type": "markdown",
   "metadata": {
    "id": "viJ7xjiBpNhn"
   },
   "source": [
    "# Modeling"
   ]
  },
  {
   "cell_type": "code",
   "execution_count": 18,
   "metadata": {
    "id": "kO66Wp4TewX-"
   },
   "outputs": [],
   "source": [
    "X = df.iloc[:,:-1].to_numpy()\n",
    "Y = df.iloc[:, -1].to_numpy()\n",
    "Y = Y.reshape(-1,1)"
   ]
  },
  {
   "cell_type": "code",
   "execution_count": 19,
   "metadata": {
    "colab": {
     "base_uri": "https://localhost:8080/"
    },
    "id": "pTKmgJXwrCR1",
    "outputId": "e89ebcce-a7c2-4470-9ef1-05f6877db576"
   },
   "outputs": [
    {
     "name": "stdout",
     "output_type": "stream",
     "text": [
      "(50, 3)\n",
      "(50, 1)\n"
     ]
    }
   ],
   "source": [
    "print(X.shape)\n",
    "print(Y.shape)"
   ]
  },
  {
   "cell_type": "markdown",
   "metadata": {
    "id": "NF6oFbiUqtY_"
   },
   "source": [
    "## Split the Dataset"
   ]
  },
  {
   "cell_type": "code",
   "execution_count": 20,
   "metadata": {
    "colab": {
     "base_uri": "https://localhost:8080/"
    },
    "id": "zHTg5hqasWyZ",
    "outputId": "8e45e2d1-bdf5-4d7f-9f8d-2217ca3fb5c3"
   },
   "outputs": [
    {
     "name": "stdout",
     "output_type": "stream",
     "text": [
      "(40, 3)\n",
      "(10, 3)\n",
      "(40, 1)\n",
      "(10, 1)\n"
     ]
    }
   ],
   "source": [
    "from sklearn.model_selection import train_test_split\n",
    "\n",
    "train_X, test_X, train_Y, test_Y = train_test_split(X, Y, train_size = 0.8, random_state = 123)\n",
    "print(train_X.shape)\n",
    "print(test_X.shape)\n",
    "print(train_Y.shape)\n",
    "print(test_Y.shape)"
   ]
  },
  {
   "cell_type": "markdown",
   "metadata": {
    "id": "2GH5gk9ET-b0"
   },
   "source": [
    "## Feature Scaling"
   ]
  },
  {
   "cell_type": "code",
   "execution_count": 21,
   "metadata": {
    "id": "VXdyFTsLrDGO"
   },
   "outputs": [],
   "source": [
    "from sklearn.preprocessing import RobustScaler\n",
    "\n",
    "scaler_x = RobustScaler()\n",
    "train_X_scaled = scaler_x.fit_transform(train_X)\n",
    "test_X_scaled = scaler_x.transform(test_X)\n",
    "scaler_y = RobustScaler()\n",
    "train_Y_scaled = scaler_y.fit_transform(train_Y)\n",
    "test_Y_scaled = scaler_y.transform(test_Y)"
   ]
  },
  {
   "cell_type": "markdown",
   "metadata": {
    "id": "24Kfh7sFcSzR"
   },
   "source": [
    "## Using Simple Linear Regression"
   ]
  },
  {
   "cell_type": "code",
   "execution_count": 22,
   "metadata": {
    "colab": {
     "base_uri": "https://localhost:8080/"
    },
    "id": "P-J0QgxWyzne",
    "outputId": "37745138-bc4f-40df-aec2-473c06125ee4"
   },
   "outputs": [
    {
     "name": "stdout",
     "output_type": "stream",
     "text": [
      " Score :0.9679176532258635\n"
     ]
    }
   ],
   "source": [
    "from sklearn.linear_model import LinearRegression\n",
    "model = LinearRegression()\n",
    "reg = model.fit(train_X_scaled, train_Y_scaled)\n",
    "scaled_predicted_test_Y = model.predict(test_X_scaled)\n",
    "reg_score = reg.score(test_X_scaled, test_Y_scaled)\n",
    "print(f' Score :{reg_score}')"
   ]
  },
  {
   "cell_type": "code",
   "execution_count": 23,
   "metadata": {
    "colab": {
     "base_uri": "https://localhost:8080/"
    },
    "id": "J-GYMlDwaR8x",
    "outputId": "5a0e9034-e53d-4d54-ac07-a6571cae3444"
   },
   "outputs": [
    {
     "name": "stdout",
     "output_type": "stream",
     "text": [
      "Error value : 6953.64999457958\n"
     ]
    }
   ],
   "source": [
    "from sklearn.metrics import mean_squared_error\n",
    "unscaled_predicted_test_Y = scaler_y.inverse_transform(scaled_predicted_test_Y)\n",
    "error_value = math.sqrt(mean_squared_error(test_Y, unscaled_predicted_test_Y))\n",
    "print(f'Error value : {error_value}')"
   ]
  },
  {
   "cell_type": "code",
   "execution_count": 24,
   "metadata": {
    "id": "_HqSYk3CtVbw"
   },
   "outputs": [],
   "source": [
    "# Plot for actual value to the true value\n",
    "def plot_predicted_actual(true_value, predicted_value, score):\n",
    "  score = round(score, 2)\n",
    "  plt.scatter(true_value, predicted_value, c='crimson')\n",
    "  p1 = max(max(predicted_value), max(true_value))\n",
    "  p2 = min(min(predicted_value), min(true_value))\n",
    "  plt.plot([p1, p2], [p1, p2], 'b-')\n",
    "  plt.xlabel('True Values', fontsize=15)\n",
    "  plt.ylabel('Predictions', fontsize=15)\n",
    "  plt.title(f'score : {score}', fontsize= 17)\n",
    "  plt.axis('equal')\n",
    "  plt.show()"
   ]
  },
  {
   "cell_type": "code",
   "execution_count": 25,
   "metadata": {
    "colab": {
     "base_uri": "https://localhost:8080/",
     "height": 304
    },
    "id": "RshfmsFZsfYj",
    "outputId": "a94fcf07-1a8d-4c38-8188-e1bbc49b08f1"
   },
   "outputs": [
    {
     "data": {
      "image/png": "[encoded data removed]",
      "text/plain": [
       "<Figure size 432x288 with 1 Axes>"
      ]
     },
     "metadata": {
      "needs_background": "light"
     },
     "output_type": "display_data"
    }
   ],
   "source": [
    "plot_predicted_actual(test_Y_scaled,scaled_predicted_test_Y, reg_score)"
   ]
  },
  {
   "cell_type": "markdown",
   "metadata": {
    "id": "OJdZOLHuZPnw"
   },
   "source": [
    "## Polynomial Regression"
   ]
  },
  {
   "cell_type": "markdown",
   "metadata": {
    "id": "CISs0qSplhdU"
   },
   "source": [
    "### Ridge Regression"
   ]
  },
  {
   "cell_type": "code",
   "execution_count": 26,
   "metadata": {
    "id": "VXZXZvRfcDQG"
   },
   "outputs": [],
   "source": [
    "from sklearn.preprocessing import PolynomialFeatures\n",
    "from sklearn.linear_model import Ridge\n",
    "from sklearn.pipeline import Pipeline\n",
    "\n",
    "pipe = Pipeline(steps = [\n",
    "    ('polynomial', PolynomialFeatures(interaction_only = True)),\n",
    "    ('ridge', Ridge())\n",
    "])"
   ]
  },
  {
   "cell_type": "markdown",
   "metadata": {
    "id": "xuqfJp6eWOdL"
   },
   "source": [
    "#### GridSearchCV"
   ]
  },
  {
   "cell_type": "code",
   "execution_count": 27,
   "metadata": {
    "colab": {
     "base_uri": "https://localhost:8080/"
    },
    "id": "aNL7zI76Z1AH",
    "outputId": "65bf7695-9684-49d4-8a6d-d908847d655d"
   },
   "outputs": [
    {
     "name": "stdout",
     "output_type": "stream",
     "text": [
      "Best parameters for Ridge Regression using GridSearchCV is: "
     ]
    },
    {
     "data": {
      "text/plain": [
       "{'polynomial__degree': 1, 'ridge__alpha': 1e-05}"
      ]
     },
     "execution_count": 27,
     "metadata": {},
     "output_type": "execute_result"
    }
   ],
   "source": [
    "from sklearn.model_selection import GridSearchCV\n",
    "from sklearn.model_selection import RepeatedKFold\n",
    "from scipy.stats import uniform\n",
    "param_grids = [\n",
    "    {'polynomial__degree': np.arange(1,20),\n",
    "    'ridge__alpha' : [1.05,1.0,1.005,0.1,0.10001,0.01,0.001,0.0001, 0.00001]\n",
    "     }\n",
    "  ]\n",
    "grid_search = GridSearchCV(pipe, param_grid= param_grids, scoring = 'neg_mean_squared_error', cv = 25 ) \n",
    "grid_search.fit(train_X_scaled, train_Y_scaled) \n",
    "print('Best parameters for Ridge Regression using GridSearchCV is: ',end = '')\n",
    "grid_search.best_params_"
   ]
  },
  {
   "cell_type": "markdown",
   "metadata": {
    "id": "M2BPPZriVuX7"
   },
   "source": [
    "##### Prediction And Error"
   ]
  },
  {
   "cell_type": "code",
   "execution_count": 28,
   "metadata": {
    "colab": {
     "base_uri": "https://localhost:8080/"
    },
    "id": "OFPww6Z8eRVd",
    "outputId": "501483b6-87e1-4407-c6e0-a9a13ed89742"
   },
   "outputs": [
    {
     "name": "stdout",
     "output_type": "stream",
     "text": [
      "Error value: 6953.669071976744\n"
     ]
    }
   ],
   "source": [
    "ridge_model_grid  = grid_search.best_estimator_\n",
    "scaled_predicted_Y_ridge = ridge_model_grid.predict(test_X_scaled)\n",
    "unscaled_predicted_Y_ridge = scaler_y.inverse_transform(scaled_predicted_Y_ridge)\n",
    "error_value = math.sqrt(mean_squared_error(unscaled_predicted_Y_ridge, test_Y))\n",
    "print(f'Error value: {error_value}')"
   ]
  },
  {
   "cell_type": "markdown",
   "metadata": {
    "id": "Fzt51SFbWC1g"
   },
   "source": [
    "##### R2 Score"
   ]
  },
  {
   "cell_type": "code",
   "execution_count": 29,
   "metadata": {
    "colab": {
     "base_uri": "https://localhost:8080/"
    },
    "id": "Wd0I33Cij4Bz",
    "outputId": "8b78a00e-a5cb-45c5-9727-761d7c943a46"
   },
   "outputs": [
    {
     "name": "stdout",
     "output_type": "stream",
     "text": [
      " R2 Score: 0.9630680290286178\n"
     ]
    }
   ],
   "source": [
    "from sklearn.metrics import r2_score\n",
    "score_ridge_grid = r2_score(unscaled_predicted_Y_ridge, test_Y)\n",
    "print(f' R2 Score: {score_ridge_grid}')"
   ]
  },
  {
   "cell_type": "markdown",
   "metadata": {
    "id": "B2511gsz6eAd"
   },
   "source": [
    "##### Plot"
   ]
  },
  {
   "cell_type": "code",
   "execution_count": 30,
   "metadata": {
    "colab": {
     "base_uri": "https://localhost:8080/",
     "height": 304
    },
    "id": "VyIqcTdTsSNx",
    "outputId": "89f59c70-c40b-47d6-a756-341c707f872f"
   },
   "outputs": [
    {
     "data": {
      "image/png": "[encoded data removed]",
      "text/plain": [
       "<Figure size 432x288 with 1 Axes>"
      ]
     },
     "metadata": {
      "needs_background": "light"
     },
     "output_type": "display_data"
    }
   ],
   "source": [
    "plot_predicted_actual(test_Y,unscaled_predicted_Y_ridge, score_ridge_grid)"
   ]
  },
  {
   "cell_type": "markdown",
   "metadata": {
    "id": "zkX0ACyvWWnr"
   },
   "source": [
    "### RandomizedSearchCV"
   ]
  },
  {
   "cell_type": "code",
   "execution_count": 31,
   "metadata": {
    "colab": {
     "base_uri": "https://localhost:8080/"
    },
    "id": "sPUhUq1JsJ5Y",
    "outputId": "7230435b-59fb-47d3-f9a6-ff4bb483ac30"
   },
   "outputs": [
    {
     "name": "stdout",
     "output_type": "stream",
     "text": [
      "Best parameters for Ridge Regression using RandomSearchCV: "
     ]
    },
    {
     "data": {
      "text/plain": [
       "{'ridge__alpha': 0.01, 'polynomial__degree': 1}"
      ]
     },
     "execution_count": 31,
     "metadata": {},
     "output_type": "execute_result"
    }
   ],
   "source": [
    "from sklearn.model_selection import RandomizedSearchCV\n",
    "random_search = RandomizedSearchCV(pipe, param_grids, n_iter = 20, scoring = 'neg_mean_squared_error', refit = True, cv = 10, random_state = 0)\n",
    "random_search.fit(train_X_scaled, train_Y_scaled)\n",
    "print('Best parameters for Ridge Regression using RandomSearchCV: ', end = '')\n",
    "random_search.best_params_"
   ]
  },
  {
   "cell_type": "markdown",
   "metadata": {
    "id": "7VRh_JV9X1sM"
   },
   "source": [
    "#### Error value"
   ]
  },
  {
   "cell_type": "code",
   "execution_count": 32,
   "metadata": {
    "colab": {
     "base_uri": "https://localhost:8080/"
    },
    "id": "e-KoZucNsxI6",
    "outputId": "35715831-20e2-4bc2-c5a2-468ea65c0fe3"
   },
   "outputs": [
    {
     "name": "stdout",
     "output_type": "stream",
     "text": [
      "Error Value: 6953.669071976744\n"
     ]
    }
   ],
   "source": [
    "ridge_model_random  = grid_search.best_estimator_\n",
    "scaled_predicted_Y_ridge = ridge_model_random.predict(test_X_scaled)\n",
    "unscaled_predicted_Y_ridge = scaler_y.inverse_transform(scaled_predicted_Y_ridge.reshape(-1,1))\n",
    "score_value = math.sqrt(mean_squared_error(unscaled_predicted_Y_ridge, test_Y))\n",
    "print(f'Error Value: {score_value}')"
   ]
  },
  {
   "cell_type": "markdown",
   "metadata": {
    "id": "YKTPdWOQX6C2"
   },
   "source": [
    "#### R2 Score"
   ]
  },
  {
   "cell_type": "code",
   "execution_count": 33,
   "metadata": {
    "colab": {
     "base_uri": "https://localhost:8080/"
    },
    "id": "M472eVlotGLd",
    "outputId": "12db54f2-3cfb-40ff-fd17-3aa69cb4e1bb"
   },
   "outputs": [
    {
     "name": "stdout",
     "output_type": "stream",
     "text": [
      " Score : 0.9630680290286178\n"
     ]
    }
   ],
   "source": [
    "score_ridge_random = r2_score(unscaled_predicted_Y_ridge, test_Y)\n",
    "print(f' Score : {score_ridge_random}')"
   ]
  },
  {
   "cell_type": "markdown",
   "metadata": {
    "id": "5MxDAw8H6XTl"
   },
   "source": [
    "#### Plot"
   ]
  },
  {
   "cell_type": "code",
   "execution_count": 34,
   "metadata": {
    "colab": {
     "base_uri": "https://localhost:8080/",
     "height": 304
    },
    "id": "I6YE3670XhUo",
    "outputId": "c141255d-fca3-4b1b-b039-acfe0f4f962a"
   },
   "outputs": [
    {
     "data": {
      "image/png": "[encoded data removed]",
      "text/plain": [
       "<Figure size 432x288 with 1 Axes>"
      ]
     },
     "metadata": {
      "needs_background": "light"
     },
     "output_type": "display_data"
    }
   ],
   "source": [
    "plot_predicted_actual(test_Y_scaled,scaled_predicted_Y_ridge,score_ridge_random)"
   ]
  },
  {
   "cell_type": "markdown",
   "metadata": {
    "id": "lq7a9RxEr7JF"
   },
   "source": [
    "### Lasso Regression"
   ]
  },
  {
   "cell_type": "code",
   "execution_count": 35,
   "metadata": {
    "id": "iAiQrCipXmKq"
   },
   "outputs": [],
   "source": [
    "from sklearn.linear_model import Lasso"
   ]
  },
  {
   "cell_type": "code",
   "execution_count": 36,
   "metadata": {
    "id": "lSGpg8MWtF8d"
   },
   "outputs": [],
   "source": [
    "pipe_lasso = Pipeline(steps = [\n",
    "    ('polynomial', PolynomialFeatures(interaction_only = True)),\n",
    "    ('lasso', Lasso(random_state=0))\n",
    "])"
   ]
  },
  {
   "cell_type": "markdown",
   "metadata": {
    "id": "m8dAVrbP7JvE"
   },
   "source": [
    "#### GridSearchCV"
   ]
  },
  {
   "cell_type": "code",
   "execution_count": 37,
   "metadata": {
    "colab": {
     "base_uri": "https://localhost:8080/"
    },
    "id": "UuZATdFztUCr",
    "outputId": "757dfe2a-9caa-46b9-d17b-a25b8b807026"
   },
   "outputs": [
    {
     "name": "stdout",
     "output_type": "stream",
     "text": [
      "Best parameters for Lasso using GridSearchCv: "
     ]
    },
    {
     "data": {
      "text/plain": [
       "{'lasso__alpha': 0.01, 'polynomial__degree': 1}"
      ]
     },
     "execution_count": 37,
     "metadata": {},
     "output_type": "execute_result"
    }
   ],
   "source": [
    "param_grids = [\n",
    "    {'polynomial__degree': np.arange(1,20),\n",
    "    'lasso__alpha' : [1.05,1.0,1.005,0.1,0.10001,0.01,0.001,0.0001, 0.00001,0.005, 0.02, 0.03, 0.05, 0.06]\n",
    "     }\n",
    "  ]\n",
    "grid_search = GridSearchCV(pipe_lasso, param_grid= param_grids, scoring = 'neg_mean_squared_error', cv = 20 ) \n",
    "grid_search.fit(train_X_scaled, train_Y_scaled) \n",
    "print('Best parameters for Lasso using GridSearchCv: ', end ='')\n",
    "grid_search.best_params_"
   ]
  },
  {
   "cell_type": "markdown",
   "metadata": {
    "id": "DF3GAm7C3uyL"
   },
   "source": [
    "##### Error value"
   ]
  },
  {
   "cell_type": "code",
   "execution_count": 38,
   "metadata": {
    "colab": {
     "base_uri": "https://localhost:8080/"
    },
    "id": "9BK_urMItgaY",
    "outputId": "9eb199e6-2007-466b-ec2d-220809ff80c7"
   },
   "outputs": [
    {
     "name": "stdout",
     "output_type": "stream",
     "text": [
      "error value = 7242.2228933960005\n"
     ]
    }
   ],
   "source": [
    "model_lasso = grid_search.best_estimator_\n",
    "scaled_predicted_Y_lasso_grid = model_lasso.predict(test_X_scaled)\n",
    "unscaled_predicted_Y_lasso_grid = scaler_y.inverse_transform(scaled_predicted_Y_lasso_grid.reshape(-1,1))\n",
    "error_value = math.sqrt(mean_squared_error(unscaled_predicted_Y_lasso_grid, test_Y))\n",
    "print(f'error value = {error_value}')"
   ]
  },
  {
   "cell_type": "markdown",
   "metadata": {
    "id": "dwpR6ItS3yY4"
   },
   "source": [
    "##### R2 Score"
   ]
  },
  {
   "cell_type": "code",
   "execution_count": 39,
   "metadata": {
    "colab": {
     "base_uri": "https://localhost:8080/"
    },
    "id": "m4S-btICtzCB",
    "outputId": "764828cf-0858-43f6-f80e-8a4f93cc1475"
   },
   "outputs": [
    {
     "name": "stdout",
     "output_type": "stream",
     "text": [
      "R2 score : 0.9585136452856527\n"
     ]
    }
   ],
   "source": [
    "score = r2_score(scaled_predicted_Y_lasso_grid, test_Y_scaled)\n",
    "print(f'R2 score : {score}')"
   ]
  },
  {
   "cell_type": "markdown",
   "metadata": {
    "id": "yRjmWvOL7Bib"
   },
   "source": [
    "##### Plot"
   ]
  },
  {
   "cell_type": "code",
   "execution_count": 40,
   "metadata": {
    "colab": {
     "base_uri": "https://localhost:8080/",
     "height": 304
    },
    "id": "ar_nAvl-566x",
    "outputId": "8ef00886-1214-463b-9de9-1b9b6c60b381"
   },
   "outputs": [
    {
     "data": {
      "image/png": "[encoded data removed]",
      "text/plain": [
       "<Figure size 432x288 with 1 Axes>"
      ]
     },
     "metadata": {
      "needs_background": "light"
     },
     "output_type": "display_data"
    }
   ],
   "source": [
    "plot_predicted_actual(test_Y, unscaled_predicted_Y_lasso_grid, score)"
   ]
  },
  {
   "cell_type": "markdown",
   "metadata": {
    "id": "MghwYJEw7Ywc"
   },
   "source": [
    "#### RandomizedSearchCV"
   ]
  },
  {
   "cell_type": "code",
   "execution_count": 41,
   "metadata": {
    "colab": {
     "base_uri": "https://localhost:8080/"
    },
    "id": "zC5hWoVK3mbI",
    "outputId": "7603905f-f960-482b-9014-012434967904"
   },
   "outputs": [
    {
     "name": "stdout",
     "output_type": "stream",
     "text": [
      "Best parameters for Lasso Regression using RandomSearchCV: "
     ]
    },
    {
     "data": {
      "text/plain": [
       "{'polynomial__degree': 17, 'lasso__alpha': 0.02}"
      ]
     },
     "execution_count": 41,
     "metadata": {},
     "output_type": "execute_result"
    }
   ],
   "source": [
    "random = RandomizedSearchCV(pipe_lasso,param_grids, scoring = 'neg_mean_squared_error', cv = 15, n_iter = 60)\n",
    "random.fit(train_X_scaled, train_Y_scaled)\n",
    "print('Best parameters for Lasso Regression using RandomSearchCV: ', end = '')\n",
    "random.best_params_"
   ]
  },
  {
   "cell_type": "markdown",
   "metadata": {
    "id": "OHheaxOC7hPN"
   },
   "source": [
    "##### Error Value"
   ]
  },
  {
   "cell_type": "code",
   "execution_count": 42,
   "metadata": {
    "colab": {
     "base_uri": "https://localhost:8080/"
    },
    "id": "bgG_6raP423g",
    "outputId": "c3857cf6-2da7-409c-a9e7-8fd850db8e15"
   },
   "outputs": [
    {
     "name": "stdout",
     "output_type": "stream",
     "text": [
      "error value: 7740.341732300149\n"
     ]
    }
   ],
   "source": [
    "model_test = random.best_estimator_\n",
    "scaled_predicted_Y = model_test.predict(test_X_scaled)\n",
    "unscaled_predicted_Y = scaler_y.inverse_transform(scaled_predicted_Y.reshape(-1,1))\n",
    "error_value = math.sqrt(mean_squared_error(unscaled_predicted_Y, test_Y))\n",
    "print(f'error value: {error_value}')"
   ]
  },
  {
   "cell_type": "markdown",
   "metadata": {
    "id": "ZnVKfEVD7jbg"
   },
   "source": [
    "##### R2 Score"
   ]
  },
  {
   "cell_type": "code",
   "execution_count": 43,
   "metadata": {
    "colab": {
     "base_uri": "https://localhost:8080/"
    },
    "id": "y3XYV8jR5QtJ",
    "outputId": "c0ccab75-1554-4d45-9dd6-2432033146c4"
   },
   "outputs": [
    {
     "name": "stdout",
     "output_type": "stream",
     "text": [
      "Score : 0.9500111707845281\n"
     ]
    }
   ],
   "source": [
    "score = r2_score(scaled_predicted_Y, test_Y_scaled)\n",
    "print(f'Score : {score}')"
   ]
  },
  {
   "cell_type": "markdown",
   "metadata": {
    "id": "ogdTdye07n6A"
   },
   "source": [
    "##### Plot"
   ]
  },
  {
   "cell_type": "code",
   "execution_count": 44,
   "metadata": {
    "colab": {
     "base_uri": "https://localhost:8080/",
     "height": 304
    },
    "id": "9L00PWqm5aff",
    "outputId": "8a94910a-6c9b-4421-97f9-4599f77f0ad1"
   },
   "outputs": [
    {
     "data": {
      "image/png": "[encoded data removed]",
      "text/plain": [
       "<Figure size 432x288 with 1 Axes>"
      ]
     },
     "metadata": {
      "needs_background": "light"
     },
     "output_type": "display_data"
    }
   ],
   "source": [
    "plot_predicted_actual(test_Y, unscaled_predicted_Y, score)"
   ]
  },
  {
   "cell_type": "markdown",
   "metadata": {
    "id": "jgPMl2yr4HaP"
   },
   "source": [
    "# Conclusion\n",
    "The R2 Score : **0.9679176532258** <br>\n",
    "Error Value : **6953.649994579577**"
   ]
  },
  {
   "cell_type": "code",
   "execution_count": 45,
   "metadata": {
    "colab": {
     "base_uri": "https://localhost:8080/",
     "height": 304
    },
    "id": "Zz06wYBa4gtr",
    "outputId": "25751dc8-52f0-4f07-adb0-31b764c4264e"
   },
   "outputs": [
    {
     "data": {
      "image/png": "[encoded data removed]",
      "text/plain": [
       "<Figure size 432x288 with 1 Axes>"
      ]
     },
     "metadata": {
      "needs_background": "light"
     },
     "output_type": "display_data"
    }
   ],
   "source": [
    "# Final model\n",
    "plot_predicted_actual(test_Y_scaled,scaled_predicted_test_Y, reg_score)"
   ]
  },
  {
   "cell_type": "code",
   "execution_count": null,
   "metadata": {
    "id": "sqSFQf5P5Yql"
   },
   "outputs": [],
   "source": []
  }
 ],
 "metadata": {
  "colab": {
   "collapsed_sections": [],
   "provenance": [],
   "toc_visible": true
  },
  "kernelspec": {
   "display_name": "Python 3",
   "language": "python",
   "name": "python3"
  },
  "language_info": {
   "codemirror_mode": {
    "name": "ipython",
    "version": 3
   },
   "file_extension": ".py",
   "mimetype": "text/x-python",
   "name": "python",
   "nbconvert_exporter": "python",
   "pygments_lexer": "ipython3",
   "version": "3.7.6"
  }
 },
 "nbformat": 4,
 "nbformat_minor": 1
}
